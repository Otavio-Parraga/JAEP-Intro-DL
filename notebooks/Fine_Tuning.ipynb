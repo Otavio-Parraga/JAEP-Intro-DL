{
  "cells": [
    {
      "cell_type": "markdown",
      "metadata": {
        "id": "J_OJmzHp7w8e"
      },
      "source": [
        "## Setting up"
      ]
    },
    {
      "cell_type": "code",
      "execution_count": null,
      "metadata": {
        "id": "HkrVIvo4mCmp"
      },
      "outputs": [],
      "source": [
        "from torchvision import transforms, datasets\n",
        "from torch.utils.data import DataLoader\n",
        "import matplotlib.pyplot as plt\n",
        "import torch.nn.functional as F\n",
        "import torch.optim as optim\n",
        "from tqdm import tqdm\n",
        "import torch.nn as nn\n",
        "import seaborn as sns\n",
        "import numpy as np\n",
        "import torchvision\n",
        "import random\n",
        "import torch\n",
        "\n",
        "import os\n",
        "\n",
        "def set_seed(seed=123):\n",
        "\n",
        "    random.seed(seed)\n",
        "    os.environ['PYHTONHASHSEED'] = str(seed)\n",
        "    np.random.seed(seed)\n",
        "    torch.manual_seed(seed)\n",
        "    torch.cuda.manual_seed(seed)\n",
        "    torch.backends.cudnn.deterministic = True\n",
        "\n",
        "set_seed()\n",
        "device = torch.device('cuda:0' if torch.cuda.is_available() else 'cpu')"
      ]
    },
    {
      "cell_type": "markdown",
      "metadata": {
        "id": "quqIQ-bThet0"
      },
      "source": [
        "# What is PyTorch?"
      ]
    },
    {
      "cell_type": "code",
      "execution_count": null,
      "metadata": {
        "id": "_KrmKk-nhee-"
      },
      "outputs": [],
      "source": [
        "tensor = torch.tensor(1)\n",
        "print(tensor)"
      ]
    },
    {
      "cell_type": "code",
      "execution_count": null,
      "metadata": {
        "colab": {
          "base_uri": "https://localhost:8080/"
        },
        "id": "jOp7JXDVh1Fe",
        "outputId": "7124eecd-3538-4c74-91c5-c222a0096c58"
      },
      "outputs": [],
      "source": [
        "tensor = torch.tensor(55)\n",
        "print(tensor)"
      ]
    },
    {
      "cell_type": "code",
      "execution_count": null,
      "metadata": {
        "colab": {
          "base_uri": "https://localhost:8080/"
        },
        "id": "qco00htuh8lV",
        "outputId": "4c56d7d3-f2ac-4967-edee-ac1d8f62b86b"
      },
      "outputs": [],
      "source": [
        "tensor = torch.tensor([1,2,3])\n",
        "print(tensor)\n",
        "print(tensor.shape)"
      ]
    },
    {
      "cell_type": "code",
      "execution_count": null,
      "metadata": {
        "colab": {
          "base_uri": "https://localhost:8080/"
        },
        "id": "Fniszy_ZiDnv",
        "outputId": "e2e35f3a-e2c7-4fa4-8286-f88642cd8a16"
      },
      "outputs": [],
      "source": [
        "tensor = torch.tensor([[1,2,3], [4,5,6]])\n",
        "print(tensor)\n",
        "print(tensor.shape)"
      ]
    },
    {
      "cell_type": "code",
      "execution_count": null,
      "metadata": {
        "colab": {
          "base_uri": "https://localhost:8080/"
        },
        "id": "epfdG7IriKZQ",
        "outputId": "64945001-013a-4f98-d90c-e95ab41eded7"
      },
      "outputs": [],
      "source": [
        "matx1 = torch.randn([3,3])\n",
        "matx2 = torch.randn([3,3])\n",
        "print(matx1)\n",
        "print()\n",
        "print(matx2)"
      ]
    },
    {
      "cell_type": "code",
      "execution_count": null,
      "metadata": {
        "colab": {
          "base_uri": "https://localhost:8080/"
        },
        "id": "84z0FYJsifWo",
        "outputId": "a3544df0-1464-4af3-f3a9-69caabc4879b"
      },
      "outputs": [],
      "source": [
        "matx1 + matx2"
      ]
    },
    {
      "cell_type": "code",
      "execution_count": null,
      "metadata": {
        "colab": {
          "base_uri": "https://localhost:8080/"
        },
        "id": "4LA-CjtGikxb",
        "outputId": "74991b71-b545-4d99-d5d7-d306d0563630"
      },
      "outputs": [],
      "source": [
        "matx1 * matx2"
      ]
    },
    {
      "cell_type": "code",
      "execution_count": null,
      "metadata": {
        "colab": {
          "base_uri": "https://localhost:8080/"
        },
        "id": "_tGuADOWinFy",
        "outputId": "83bca442-28a0-407f-dcad-208d7b820f99"
      },
      "outputs": [],
      "source": [
        "torch.mm(matx1, matx2)"
      ]
    },
    {
      "cell_type": "markdown",
      "metadata": {
        "id": "S12sgmXh7u67"
      },
      "source": [
        "# Preparing Dataset"
      ]
    },
    {
      "cell_type": "code",
      "execution_count": null,
      "metadata": {
        "id": "lKoLmY7173fM"
      },
      "outputs": [],
      "source": [
        "# download dataset\n",
        "! wget --load-cookies /tmp/cookies.txt \"https://docs.google.com/uc?export=download&confirm=$(wget --quiet --save-cookies /tmp/cookies.txt --keep-session-cookies --no-check-certificate 'https://docs.google.com/uc?export=download&id=1qfECWntEYSZS9uOm9nRyDUPe2of5skQr' -O- | sed -rn 's/.*confirm=([0-9A-Za-z_]+).*/\\1\\n/p')&id=1qfECWntEYSZS9uOm9nRyDUPe2of5skQr\" -O dataset.zip && rm -rf /tmp/cookies.txt\n",
        "!unzip /content/dataset.zip"
      ]
    },
    {
      "cell_type": "code",
      "execution_count": null,
      "metadata": {
        "id": "-DbOKKyKrZyz"
      },
      "outputs": [],
      "source": [
        "img_size = (256,256)\n",
        "transformations = transforms.Compose([transforms.Resize(img_size), transforms.ToTensor()])\n",
        "\n",
        "train = datasets.ImageFolder('./training_set/training_set',transform=transformations)\n",
        "test= datasets.ImageFolder('./test_set/test_set', transform=transformations)\n",
        "trainloader = DataLoader(train, batch_size=64, shuffle=True)\n",
        "testloader = DataLoader(test, batch_size=64, shuffle=False)"
      ]
    },
    {
      "cell_type": "code",
      "execution_count": null,
      "metadata": {
        "colab": {
          "base_uri": "https://localhost:8080/",
          "height": 487
        },
        "id": "6GuX8qulsstL",
        "outputId": "d5913fbb-06f3-4492-ec76-5fda575e87f5"
      },
      "outputs": [],
      "source": [
        "def imshow(img):\n",
        "    plt.figure(figsize=(20,8))\n",
        "    npimg = img.numpy()\n",
        "    plt.imshow(np.transpose(npimg, (1, 2, 0)))\n",
        "    plt.show()\n",
        "\n",
        "dataiter = iter(trainloader)\n",
        "images = dataiter.next()\n",
        "imshow(torchvision.utils.make_grid(images[0]))"
      ]
    },
    {
      "cell_type": "code",
      "execution_count": null,
      "metadata": {
        "colab": {
          "base_uri": "https://localhost:8080/",
          "height": 486
        },
        "id": "179h2adLYkn_",
        "outputId": "8378d988-8203-405c-bd51-8d6c6f411793"
      },
      "outputs": [],
      "source": [
        "imshow(images[0][0])"
      ]
    },
    {
      "cell_type": "markdown",
      "metadata": {
        "id": "t8ozu29xdhsE"
      },
      "source": [
        "# Creating our MLP"
      ]
    },
    {
      "cell_type": "code",
      "execution_count": null,
      "metadata": {
        "id": "-dQpJBAvEBOG"
      },
      "outputs": [],
      "source": [
        "class MLP(nn.Module):\n",
        "    def __init__(self):\n",
        "        super(MLP, self).__init__()\n",
        "        self.layers = nn.Sequential(\n",
        "            # input = (256,256,3)\n",
        "            nn.Flatten(), # (196608)\n",
        "            nn.Linear(256*256*3, 1024),\n",
        "            nn.ReLU(inplace=True),\n",
        "            nn.Linear(1024, 64),\n",
        "            nn.ReLU(inplace=True),\n",
        "            nn.Linear(64,2)\n",
        "        )\n",
        "    def forward(self, x):\n",
        "        x = self.layers(x)\n",
        "        return x"
      ]
    },
    {
      "cell_type": "code",
      "execution_count": null,
      "metadata": {
        "id": "FmDu9rXuF3J8"
      },
      "outputs": [],
      "source": [
        "def validation(model, loader, criterion):\n",
        "    model.eval()\n",
        "    val_loss = 0\n",
        "    with torch.no_grad():\n",
        "        for data in loader:\n",
        "            images, labels = data\n",
        "            images, labels = images.to(device), labels.to(device)\n",
        "            outputs = model(images)\n",
        "            loss = criterion(outputs,labels)\n",
        "            val_loss +=loss\n",
        "    return val_loss/len(loader)\n",
        "\n",
        "def train(model, trainloader, testloader, optimizer, criterion, epochs):\n",
        "    for epoch in range(epochs):\n",
        "        model.train()\n",
        "        running_loss = 0\n",
        "        for data in tqdm(trainloader):\n",
        "            images, labels = data\n",
        "            model.zero_grad()\n",
        "            images, labels = images.to(device), labels.to(device)\n",
        "            outputs = model(images)\n",
        "            loss = criterion(outputs, labels)\n",
        "            loss.backward()\n",
        "            optimizer.step()\n",
        "            running_loss += loss.item()\n",
        "        val_loss = validation(model, testloader, criterion)\n",
        "        print(f'Epoch: {epoch+1} | Loss: {running_loss/len(trainloader)} | Val Loss: {val_loss}')"
      ]
    },
    {
      "cell_type": "code",
      "execution_count": null,
      "metadata": {
        "id": "RlQnMdDrGG05"
      },
      "outputs": [],
      "source": [
        "mlp = MLP().to(device)\n",
        "criterion = nn.CrossEntropyLoss().to(device)\n",
        "optimizer = optim.Adam(mlp.parameters(), lr=0.001)\n",
        "epochs = 3"
      ]
    },
    {
      "cell_type": "code",
      "execution_count": null,
      "metadata": {
        "colab": {
          "base_uri": "https://localhost:8080/"
        },
        "id": "Z68p_CQ_GNo7",
        "outputId": "b9ea4fef-dfff-4795-c8dd-79dd3a5acfa5"
      },
      "outputs": [],
      "source": [
        "train(mlp, trainloader, testloader, optimizer, criterion, epochs)"
      ]
    },
    {
      "cell_type": "code",
      "execution_count": null,
      "metadata": {
        "id": "umyI14OGIJaC"
      },
      "outputs": [],
      "source": [
        "def accuracy(model, loader):\n",
        "    model.eval()\n",
        "    corrected = 0\n",
        "    total = 0\n",
        "    with torch.no_grad():\n",
        "        for data in loader:\n",
        "            images, labels = data\n",
        "            images, labels = images.to(device), labels.to(device)\n",
        "            outputs = model(images)\n",
        "            _,predicted = torch.max(outputs, 1)\n",
        "            total += labels.size(0)\n",
        "            corrected += (predicted == labels).sum().item()\n",
        "    return corrected * 100 // total\n",
        "\n",
        "def confusion_matrix(model, loader):\n",
        "    model.eval()\n",
        "    confusion_matrix = np.zeros((2,2))\n",
        "    with torch.no_grad():\n",
        "        for data in loader:\n",
        "            images, labels = data\n",
        "            images, labels = images.to(device), labels.to(device)\n",
        "            outputs = model(images)\n",
        "            _,predicted = torch.max(outputs, 1)\n",
        "            for i in range(labels.size(0)):\n",
        "                confusion_matrix[labels[i].item()][predicted[i].item()] += 1\n",
        "    ax = sns.heatmap(confusion_matrix, annot=True, cmap='Blues', fmt='g', xticklabels=['Gato', 'Cachorro'], yticklabels=['Gato', 'Cachorro'])\n",
        "    ax.set_xlabel('Predicted')\n",
        "    ax.set_ylabel('Label')\n",
        "    return ax"
      ]
    },
    {
      "cell_type": "code",
      "execution_count": null,
      "metadata": {
        "colab": {
          "base_uri": "https://localhost:8080/",
          "height": 297
        },
        "id": "__zP1dygIC61",
        "outputId": "456f8eb7-b55c-42f6-ac99-bff4d2e6568b"
      },
      "outputs": [],
      "source": [
        "print(f'A rede atinge: {accuracy(mlp, testloader)}% de acurácia')\n",
        "conf_mat = confusion_matrix(mlp, testloader)"
      ]
    },
    {
      "cell_type": "markdown",
      "metadata": {
        "id": "0K9dvuUFaWjK"
      },
      "source": [
        "# Creating our Convolutional Neural Network"
      ]
    },
    {
      "cell_type": "code",
      "execution_count": null,
      "metadata": {
        "id": "gIOBKqYytCXd"
      },
      "outputs": [],
      "source": [
        "class ConvolutionalNeuralNetwork(nn.Module):\n",
        "    def __init__(self):\n",
        "        super(ConvolutionalNeuralNetwork, self).__init__()\n",
        "        self.layers = nn.Sequential(\n",
        "            # input = (256,256,3)\n",
        "            nn.Conv2d(3,16, kernel_size=3, stride=1, padding=1), # (256,256,16)\n",
        "            nn.ReLU(inplace=True), # (256,256,16)\n",
        "            nn.MaxPool2d(kernel_size=2,stride=2), # (128,128,16)\n",
        "            nn.Conv2d(16,8, kernel_size=3, stride=1, padding=1), # (128,128,8)\n",
        "            nn.ReLU(inplace=True), # (128,128,8)\n",
        "            nn.MaxPool2d(kernel_size=2,stride=2), # (64,64,8)\n",
        "            nn.Flatten(), # (1024)\n",
        "            nn.Linear(64*64*8,256), # (256)\n",
        "            nn.ReLU(inplace=True),  # (256)\n",
        "            nn.Linear(256,2) # (2)\n",
        "        )\n",
        "\n",
        "    def forward(self, x):\n",
        "        x = self.layers(x)\n",
        "        return x"
      ]
    },
    {
      "cell_type": "code",
      "execution_count": null,
      "metadata": {
        "id": "jl_4scQt8wBY"
      },
      "outputs": [],
      "source": [
        "cnn = ConvolutionalNeuralNetwork().to(device)\n",
        "criterion = nn.CrossEntropyLoss().to(device)\n",
        "optimizer = optim.Adam(cnn.parameters(), lr=0.001)\n",
        "epochs = 3"
      ]
    },
    {
      "cell_type": "code",
      "execution_count": null,
      "metadata": {
        "colab": {
          "base_uri": "https://localhost:8080/"
        },
        "id": "aVqmgR5taECP",
        "outputId": "b599efdb-ad76-49bf-8708-bbb132738e5c"
      },
      "outputs": [],
      "source": [
        "train(cnn, trainloader, testloader, optimizer, criterion, epochs)"
      ]
    },
    {
      "cell_type": "code",
      "execution_count": null,
      "metadata": {
        "colab": {
          "base_uri": "https://localhost:8080/",
          "height": 302
        },
        "id": "zJNmGjtZUeA8",
        "outputId": "44c25626-55ef-4050-cdf4-07febbac90e4"
      },
      "outputs": [],
      "source": [
        "print(f'A rede atinge: {accuracy(cnn, testloader)}% de acurácia')\n",
        "conf_mat = confusion_matrix(cnn, testloader)"
      ]
    },
    {
      "cell_type": "markdown",
      "metadata": {
        "id": "fzeHjr4oabkO"
      },
      "source": [
        "# Transfer Learning"
      ]
    },
    {
      "cell_type": "code",
      "execution_count": null,
      "metadata": {
        "colab": {
          "base_uri": "https://localhost:8080/",
          "height": 67,
          "referenced_widgets": [
            "4873d05535114aea8e836286046605a2",
            "b5fca948802a4cc497beeaa218874515",
            "de4762e7dd87435d88b4044682109d24",
            "e31c29e898944032bfb133d29000256b",
            "402fca1fb93443df916e7b61ff11e928",
            "6701ccf240a441ee9e97add97cf4bec8",
            "218e1a2dd57b4d69ab732b1fe5947466",
            "2eaf5c8fc15c45dea510c61d47439f77",
            "3bd8f4fcd0a84d6aad3ef2c1ae3bafca",
            "b09a00aae8d74bc4955d461f49419492",
            "4137b2fe7b80491c8942e0af5a91608f"
          ]
        },
        "id": "_2wzBCgKadWP",
        "outputId": "a3bf95b0-d213-418d-8beb-59a00a19e6f4"
      },
      "outputs": [],
      "source": [
        "resnet = torchvision.models.resnet50(pretrained = True)"
      ]
    },
    {
      "cell_type": "code",
      "execution_count": null,
      "metadata": {
        "id": "EVtha8OrbcgC"
      },
      "outputs": [],
      "source": [
        "resnet.fc = nn.Linear(2048,2)"
      ]
    },
    {
      "cell_type": "code",
      "execution_count": null,
      "metadata": {
        "id": "wDPccWYDh0bK"
      },
      "outputs": [],
      "source": [
        "for name, params in resnet.named_parameters():\n",
        "    if name not in ('fc.weight', 'fc.bias'):\n",
        "        params.requires_grad = False\n",
        "# for name, params in resnet.named_parameters():\n",
        "#     print(name, params.requires_grad)"
      ]
    },
    {
      "cell_type": "code",
      "execution_count": null,
      "metadata": {
        "id": "Tv-1ntEpamSm"
      },
      "outputs": [],
      "source": [
        "resnet.to(device)\n",
        "criterion = nn.CrossEntropyLoss()\n",
        "optimizer = optim.Adam(resnet.parameters(), lr=0.001)\n",
        "epochs = 3"
      ]
    },
    {
      "cell_type": "code",
      "execution_count": null,
      "metadata": {
        "colab": {
          "base_uri": "https://localhost:8080/"
        },
        "id": "q6U6kHUk8Xz3",
        "outputId": "af783ace-97f6-4844-c7c6-ab275e9a0e4f"
      },
      "outputs": [],
      "source": [
        "train(resnet, trainloader, testloader, optimizer, criterion, epochs)"
      ]
    },
    {
      "cell_type": "code",
      "execution_count": null,
      "metadata": {
        "colab": {
          "base_uri": "https://localhost:8080/",
          "height": 305
        },
        "id": "DwSweSmMPbKr",
        "outputId": "7f600a18-bfd2-4116-f8bc-c527ae28cf9b"
      },
      "outputs": [],
      "source": [
        "print(f'A rede atinge: {accuracy(resnet, testloader)}% de acurácia')\n",
        "conf_mat = confusion_matrix(resnet, testloader)"
      ]
    },
    {
      "cell_type": "markdown",
      "metadata": {
        "id": "BZCxt7sjA_sV"
      },
      "source": [
        "# Comparing Our Models"
      ]
    },
    {
      "cell_type": "code",
      "execution_count": null,
      "metadata": {
        "id": "yDMNAPjtVs7e"
      },
      "outputs": [],
      "source": [
        "def predict(model, image):\n",
        "    prediction = model(torch.unsqueeze(image, 0).to(device))\n",
        "    result = torch.argmax(prediction)\n",
        "    return 'Cat' if result == 0 else 'Dog'"
      ]
    },
    {
      "cell_type": "code",
      "execution_count": null,
      "metadata": {
        "colab": {
          "base_uri": "https://localhost:8080/",
          "height": 504
        },
        "id": "CrmDsWv7BJVf",
        "outputId": "ab2b8949-57df-45d7-bb51-34eb03196bd8"
      },
      "outputs": [],
      "source": [
        "image_index = 4\n",
        "image = test[image_index][0]\n",
        "label = 'Dog' if test[image_index][1] else 'Cat'\n",
        "imshow(image)\n",
        "print(label)"
      ]
    },
    {
      "cell_type": "code",
      "execution_count": null,
      "metadata": {
        "colab": {
          "base_uri": "https://localhost:8080/"
        },
        "id": "DEw5lL6BAsOw",
        "outputId": "9f4be2f7-c398-468a-e07c-c581a353619b"
      },
      "outputs": [],
      "source": [
        "print(f'Real Label: {label}')\n",
        "print(f'MLP Prediction: {predict(mlp, image)}')\n",
        "print(f'CNN Prediction: {predict(cnn, image)}')\n",
        "print(f'Resnet Prediction: {predict(resnet, image)}')"
      ]
    },
    {
      "cell_type": "markdown",
      "metadata": {
        "id": "10vTRhAtZKRL"
      },
      "source": [
        "# Test our image"
      ]
    },
    {
      "cell_type": "code",
      "execution_count": null,
      "metadata": {
        "id": "lBeAoRIGLShe"
      },
      "outputs": [],
      "source": [
        "from PIL import Image\n",
        "import torchvision.transforms.functional as TF\n",
        "\n",
        "x = Image.open('dog.jpg').convert('RGB')\n",
        "x = transformations(x)"
      ]
    },
    {
      "cell_type": "code",
      "execution_count": null,
      "metadata": {
        "colab": {
          "base_uri": "https://localhost:8080/"
        },
        "id": "xHSPFYHrW6JT",
        "outputId": "1c83dbf4-de46-4060-b511-206902c00b2c"
      },
      "outputs": [],
      "source": [
        "print(f'MLP Prediction: {predict(mlp, x)}')\n",
        "print(f'CNN Prediction: {predict(cnn, x)}')\n",
        "print(f'Resnet Prediction: {predict(resnet, x)}')"
      ]
    },
    {
      "cell_type": "code",
      "execution_count": null,
      "metadata": {
        "id": "W7nCWlFAW7Va"
      },
      "outputs": [],
      "source": []
    }
  ],
  "metadata": {
    "accelerator": "GPU",
    "colab": {
      "collapsed_sections": [],
      "name": "Fine_Tuning.ipynb",
      "provenance": []
    },
    "gpuClass": "standard",
    "kernelspec": {
      "display_name": "Python 3.9.5 ('base')",
      "language": "python",
      "name": "python3"
    },
    "language_info": {
      "codemirror_mode": {
        "name": "ipython",
        "version": 3
      },
      "file_extension": ".py",
      "mimetype": "text/x-python",
      "name": "python",
      "nbconvert_exporter": "python",
      "pygments_lexer": "ipython3",
      "version": "3.9.5"
    },
    "vscode": {
      "interpreter": {
        "hash": "88279d2366fe020547cde40dd65aa0e3aa662a6ec1f3ca12d88834876c85e1a6"
      }
    },
    "widgets": {
      "application/vnd.jupyter.widget-state+json": {
        "218e1a2dd57b4d69ab732b1fe5947466": {
          "model_module": "@jupyter-widgets/controls",
          "model_module_version": "1.5.0",
          "model_name": "DescriptionStyleModel",
          "state": {
            "_model_module": "@jupyter-widgets/controls",
            "_model_module_version": "1.5.0",
            "_model_name": "DescriptionStyleModel",
            "_view_count": null,
            "_view_module": "@jupyter-widgets/base",
            "_view_module_version": "1.2.0",
            "_view_name": "StyleView",
            "description_width": ""
          }
        },
        "2eaf5c8fc15c45dea510c61d47439f77": {
          "model_module": "@jupyter-widgets/base",
          "model_module_version": "1.2.0",
          "model_name": "LayoutModel",
          "state": {
            "_model_module": "@jupyter-widgets/base",
            "_model_module_version": "1.2.0",
            "_model_name": "LayoutModel",
            "_view_count": null,
            "_view_module": "@jupyter-widgets/base",
            "_view_module_version": "1.2.0",
            "_view_name": "LayoutView",
            "align_content": null,
            "align_items": null,
            "align_self": null,
            "border": null,
            "bottom": null,
            "display": null,
            "flex": null,
            "flex_flow": null,
            "grid_area": null,
            "grid_auto_columns": null,
            "grid_auto_flow": null,
            "grid_auto_rows": null,
            "grid_column": null,
            "grid_gap": null,
            "grid_row": null,
            "grid_template_areas": null,
            "grid_template_columns": null,
            "grid_template_rows": null,
            "height": null,
            "justify_content": null,
            "justify_items": null,
            "left": null,
            "margin": null,
            "max_height": null,
            "max_width": null,
            "min_height": null,
            "min_width": null,
            "object_fit": null,
            "object_position": null,
            "order": null,
            "overflow": null,
            "overflow_x": null,
            "overflow_y": null,
            "padding": null,
            "right": null,
            "top": null,
            "visibility": null,
            "width": null
          }
        },
        "3bd8f4fcd0a84d6aad3ef2c1ae3bafca": {
          "model_module": "@jupyter-widgets/controls",
          "model_module_version": "1.5.0",
          "model_name": "ProgressStyleModel",
          "state": {
            "_model_module": "@jupyter-widgets/controls",
            "_model_module_version": "1.5.0",
            "_model_name": "ProgressStyleModel",
            "_view_count": null,
            "_view_module": "@jupyter-widgets/base",
            "_view_module_version": "1.2.0",
            "_view_name": "StyleView",
            "bar_color": null,
            "description_width": ""
          }
        },
        "402fca1fb93443df916e7b61ff11e928": {
          "model_module": "@jupyter-widgets/base",
          "model_module_version": "1.2.0",
          "model_name": "LayoutModel",
          "state": {
            "_model_module": "@jupyter-widgets/base",
            "_model_module_version": "1.2.0",
            "_model_name": "LayoutModel",
            "_view_count": null,
            "_view_module": "@jupyter-widgets/base",
            "_view_module_version": "1.2.0",
            "_view_name": "LayoutView",
            "align_content": null,
            "align_items": null,
            "align_self": null,
            "border": null,
            "bottom": null,
            "display": null,
            "flex": null,
            "flex_flow": null,
            "grid_area": null,
            "grid_auto_columns": null,
            "grid_auto_flow": null,
            "grid_auto_rows": null,
            "grid_column": null,
            "grid_gap": null,
            "grid_row": null,
            "grid_template_areas": null,
            "grid_template_columns": null,
            "grid_template_rows": null,
            "height": null,
            "justify_content": null,
            "justify_items": null,
            "left": null,
            "margin": null,
            "max_height": null,
            "max_width": null,
            "min_height": null,
            "min_width": null,
            "object_fit": null,
            "object_position": null,
            "order": null,
            "overflow": null,
            "overflow_x": null,
            "overflow_y": null,
            "padding": null,
            "right": null,
            "top": null,
            "visibility": null,
            "width": null
          }
        },
        "4137b2fe7b80491c8942e0af5a91608f": {
          "model_module": "@jupyter-widgets/controls",
          "model_module_version": "1.5.0",
          "model_name": "DescriptionStyleModel",
          "state": {
            "_model_module": "@jupyter-widgets/controls",
            "_model_module_version": "1.5.0",
            "_model_name": "DescriptionStyleModel",
            "_view_count": null,
            "_view_module": "@jupyter-widgets/base",
            "_view_module_version": "1.2.0",
            "_view_name": "StyleView",
            "description_width": ""
          }
        },
        "4873d05535114aea8e836286046605a2": {
          "model_module": "@jupyter-widgets/controls",
          "model_module_version": "1.5.0",
          "model_name": "HBoxModel",
          "state": {
            "_dom_classes": [],
            "_model_module": "@jupyter-widgets/controls",
            "_model_module_version": "1.5.0",
            "_model_name": "HBoxModel",
            "_view_count": null,
            "_view_module": "@jupyter-widgets/controls",
            "_view_module_version": "1.5.0",
            "_view_name": "HBoxView",
            "box_style": "",
            "children": [
              "IPY_MODEL_b5fca948802a4cc497beeaa218874515",
              "IPY_MODEL_de4762e7dd87435d88b4044682109d24",
              "IPY_MODEL_e31c29e898944032bfb133d29000256b"
            ],
            "layout": "IPY_MODEL_402fca1fb93443df916e7b61ff11e928"
          }
        },
        "6701ccf240a441ee9e97add97cf4bec8": {
          "model_module": "@jupyter-widgets/base",
          "model_module_version": "1.2.0",
          "model_name": "LayoutModel",
          "state": {
            "_model_module": "@jupyter-widgets/base",
            "_model_module_version": "1.2.0",
            "_model_name": "LayoutModel",
            "_view_count": null,
            "_view_module": "@jupyter-widgets/base",
            "_view_module_version": "1.2.0",
            "_view_name": "LayoutView",
            "align_content": null,
            "align_items": null,
            "align_self": null,
            "border": null,
            "bottom": null,
            "display": null,
            "flex": null,
            "flex_flow": null,
            "grid_area": null,
            "grid_auto_columns": null,
            "grid_auto_flow": null,
            "grid_auto_rows": null,
            "grid_column": null,
            "grid_gap": null,
            "grid_row": null,
            "grid_template_areas": null,
            "grid_template_columns": null,
            "grid_template_rows": null,
            "height": null,
            "justify_content": null,
            "justify_items": null,
            "left": null,
            "margin": null,
            "max_height": null,
            "max_width": null,
            "min_height": null,
            "min_width": null,
            "object_fit": null,
            "object_position": null,
            "order": null,
            "overflow": null,
            "overflow_x": null,
            "overflow_y": null,
            "padding": null,
            "right": null,
            "top": null,
            "visibility": null,
            "width": null
          }
        },
        "b09a00aae8d74bc4955d461f49419492": {
          "model_module": "@jupyter-widgets/base",
          "model_module_version": "1.2.0",
          "model_name": "LayoutModel",
          "state": {
            "_model_module": "@jupyter-widgets/base",
            "_model_module_version": "1.2.0",
            "_model_name": "LayoutModel",
            "_view_count": null,
            "_view_module": "@jupyter-widgets/base",
            "_view_module_version": "1.2.0",
            "_view_name": "LayoutView",
            "align_content": null,
            "align_items": null,
            "align_self": null,
            "border": null,
            "bottom": null,
            "display": null,
            "flex": null,
            "flex_flow": null,
            "grid_area": null,
            "grid_auto_columns": null,
            "grid_auto_flow": null,
            "grid_auto_rows": null,
            "grid_column": null,
            "grid_gap": null,
            "grid_row": null,
            "grid_template_areas": null,
            "grid_template_columns": null,
            "grid_template_rows": null,
            "height": null,
            "justify_content": null,
            "justify_items": null,
            "left": null,
            "margin": null,
            "max_height": null,
            "max_width": null,
            "min_height": null,
            "min_width": null,
            "object_fit": null,
            "object_position": null,
            "order": null,
            "overflow": null,
            "overflow_x": null,
            "overflow_y": null,
            "padding": null,
            "right": null,
            "top": null,
            "visibility": null,
            "width": null
          }
        },
        "b5fca948802a4cc497beeaa218874515": {
          "model_module": "@jupyter-widgets/controls",
          "model_module_version": "1.5.0",
          "model_name": "HTMLModel",
          "state": {
            "_dom_classes": [],
            "_model_module": "@jupyter-widgets/controls",
            "_model_module_version": "1.5.0",
            "_model_name": "HTMLModel",
            "_view_count": null,
            "_view_module": "@jupyter-widgets/controls",
            "_view_module_version": "1.5.0",
            "_view_name": "HTMLView",
            "description": "",
            "description_tooltip": null,
            "layout": "IPY_MODEL_6701ccf240a441ee9e97add97cf4bec8",
            "placeholder": "​",
            "style": "IPY_MODEL_218e1a2dd57b4d69ab732b1fe5947466",
            "value": "100%"
          }
        },
        "de4762e7dd87435d88b4044682109d24": {
          "model_module": "@jupyter-widgets/controls",
          "model_module_version": "1.5.0",
          "model_name": "FloatProgressModel",
          "state": {
            "_dom_classes": [],
            "_model_module": "@jupyter-widgets/controls",
            "_model_module_version": "1.5.0",
            "_model_name": "FloatProgressModel",
            "_view_count": null,
            "_view_module": "@jupyter-widgets/controls",
            "_view_module_version": "1.5.0",
            "_view_name": "ProgressView",
            "bar_style": "success",
            "description": "",
            "description_tooltip": null,
            "layout": "IPY_MODEL_2eaf5c8fc15c45dea510c61d47439f77",
            "max": 102530333,
            "min": 0,
            "orientation": "horizontal",
            "style": "IPY_MODEL_3bd8f4fcd0a84d6aad3ef2c1ae3bafca",
            "value": 102530333
          }
        },
        "e31c29e898944032bfb133d29000256b": {
          "model_module": "@jupyter-widgets/controls",
          "model_module_version": "1.5.0",
          "model_name": "HTMLModel",
          "state": {
            "_dom_classes": [],
            "_model_module": "@jupyter-widgets/controls",
            "_model_module_version": "1.5.0",
            "_model_name": "HTMLModel",
            "_view_count": null,
            "_view_module": "@jupyter-widgets/controls",
            "_view_module_version": "1.5.0",
            "_view_name": "HTMLView",
            "description": "",
            "description_tooltip": null,
            "layout": "IPY_MODEL_b09a00aae8d74bc4955d461f49419492",
            "placeholder": "​",
            "style": "IPY_MODEL_4137b2fe7b80491c8942e0af5a91608f",
            "value": " 97.8M/97.8M [00:00&lt;00:00, 261MB/s]"
          }
        }
      }
    }
  },
  "nbformat": 4,
  "nbformat_minor": 0
}
